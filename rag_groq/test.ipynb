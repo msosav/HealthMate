{
 "cells": [
  {
   "cell_type": "code",
   "execution_count": 2,
   "id": "cb69c99d",
   "metadata": {},
   "outputs": [],
   "source": [
    "from modules.ingest import build_vectorstore_from_pdf\n",
    "from tqdm import tqdm\n",
    "from modules.generate_answers import run_rag_pipeline"
   ]
  },
  {
   "cell_type": "code",
   "execution_count": 5,
   "id": "77aa652a",
   "metadata": {},
   "outputs": [
    {
     "name": "stdout",
     "output_type": "stream",
     "text": [
      "📥 Loading guideline vectorstore...\n",
      "📄 Extracting text from uploaded PDF...\n",
      "🤖 Running QA chain with guideline context only...\n",
      "✅ Saved result to: answer.json\n"
     ]
    },
    {
     "data": {
      "text/plain": [
       "{'question': \"The following are results from a patient's medical report:\\n\\nCardiovascular Medical Report\\nPatient Name: John Doe 1\\nAge: 49\\nHeart Rate: 97 bpm\\nBlood Pressure: 157/105 mmHg\\nTotal Cholesterol: 293 mg/dL\\nTriglycerides: 227 mg/dL\\nNote:\\nFurther medical evaluation is recommended. Initial results suggest abnormalities requiring specialist\\nreview.\\n\\n\\nBased on the guidelines, what do these results mean? Provide an explanation and any medical recommendations. Do not ask for more information.\",\n",
       " 'answer': 'Based on the results, here\\'s an explanation and medical recommendations:\\n\\n* Heart Rate: 97 bpm is within the normal range, but it\\'s slightly elevated. This could be a sign of stress or anxiety.\\n* Blood Pressure: 157/105 mmHg is elevated, indicating hypertension (high blood pressure). The systolic pressure (157 mmHg) is above the normal range, and the diastolic pressure (105 mmHg) is also elevated.\\n* Total Cholesterol: 293 mg/dL is above the normal range, indicating high cholesterol.\\n* Triglycerides: 227 mg/dL is above the normal range, indicating high triglycerides.\\n\\nThese results suggest that John Doe has hypertension, high cholesterol, and high triglycerides, which are all risk factors for cardiovascular disease. The note \"Further medical evaluation is recommended. Initial results suggest abnormalities requiring specialist review\" indicates that a specialist, such as a cardiologist or a nephrologist, should review these results to determine the next steps.\\n\\nMedical recommendations would likely include:\\n\\n* Lifestyle modifications, such as a healthy diet, regular exercise, and stress management, to help manage blood pressure and cholesterol levels.\\n* Medications to control blood pressure and cholesterol levels, if necessary.\\n* Further testing, such as an electrocardiogram (ECG), echocardiogram, or stress test, to assess cardiac function and identify any potential underlying conditions.\\n* Regular follow-up appointments with a healthcare professional to monitor progress and adjust treatment as needed.',\n",
       " 'contexts': ['your test outcomes with a healthcare professional – they will explain what the numbers \\nmean in your personal context and what steps to take next.  \\n \\nNon-Pharmaceutical Interventions (Lifestyle Changes)  \\nMedications are important in heart disease management, but lifestyle modifications  are \\nequally crucial both for prevention and treatment of cardiovascular problems. In fact, many \\nearly -stage conditions (like Stage 1 hypertension or high cholesterol) are managed first with',\n",
       "  'disease, congenital heart defects, and others 1. Many cardiovascular diseases are \\npreventable through healthy lifestyle choices and early detection. This guide provides an \\noverview of cardiovascular problems, common symptoms to recognize, types of medical \\nexams and how to interpret them, lifestyle modi fications for heart health, the roles of \\nvarious heart specialists, when to seek medical attention, reliable sources of information,',\n",
       "  'A result may be reported as, for example, “90% stenosis in the proximal left anterior \\ndescending (LAD) artery.” That would be interpreted as a critical blockage in a major \\nartery  and usually warrants either stenting or bypass surgery. Conversely, an \\nangiogram might show only mild plaque (e.g., 20% narrowing) which is managed \\nmedically. Normal angiogram  (no significant blockages) essentially rules out \\n \\n3New ACC/AHA High Blood Pressure Guidelines Lower Definition of ...',\n",
       "  'to treat chest discomfort seriously  and the warning that heart attacks can start with mild \\npain 2, he chews an aspirin and calls 911. In the ER, tests conf irm he had a minor heart \\nattack  (troponin was elevated at 0.3 ng/mL 4). He receives an early angioplasty and stent in \\na 90% blocked artery, preventing a massive heart attack. The ER doctor tells him his quick \\naction likely saved his life. This scenario shows how education empowered John to']}"
      ]
     },
     "execution_count": 5,
     "metadata": {},
     "output_type": "execute_result"
    }
   ],
   "source": [
    "run_rag_pipeline(\"docs/exams.pdf\", \"help me understanding the diagnosis?\", \"answer.json\")"
   ]
  },
  {
   "cell_type": "code",
   "execution_count": 4,
   "id": "45cf3402",
   "metadata": {},
   "outputs": [
    {
     "name": "stdout",
     "output_type": "stream",
     "text": [
      "📥 Loading guideline vectorstore...\n",
      "🤖 Running QA chain with guideline context only...\n",
      "✅ Saved result to: answer.json\n"
     ]
    },
    {
     "data": {
      "text/plain": [
       "{'question': 'help me understanding the menaing of my heart problem?',\n",
       " 'answer': \"I'd be happy to help you understand your heart problem. However, I need more information from you. Can you please provide me with more details about your heart problem, such as:\\n\\n* What are your symptoms? Are you experiencing chest pain, pressure, or discomfort?\\n* How long have you been experiencing these symptoms?\\n* Have you noticed any other symptoms, such as shortness of breath, dizziness, or fatigue?\\n* Have you been diagnosed with any heart condition or disease?\\n* Have you had any medical tests or procedures done to evaluate your heart?\\n\\nWith more information, I can try to help you understand your heart problem and provide guidance on what you can do next.\",\n",
       " 'contexts': ['• Chest Pain or Discomfort:  This is the hallmark symptom of a heart attack \\n(myocardial infarction) or angina. Often described as pressure, squeezing, fullness, or \\npain in the center of the chest, lasting more than a few minutes or going away and \\ncoming back 2. It may radiate to the left shoulder or arm, neck, jaw, or back  2. Any \\npersistent chest pain or intense discomfort should be treated as a medical \\nemergency – call 911 immediately  2 2.',\n",
       "  'heart attacks are s urvivable with timely care – so do not delay” gives urgency and \\nhope). Empathy also means addressing emotional aspects: advising a heart patient \\nto join support groups, or acknowledging anxiety and depression can accompany \\nheart disease and should be treated. The humanistic element  is part of ethical \\nmedical communication, as it treats the patient as a person, not just a case.  \\nIn summary, any cardiovascular advice system must adhere to the principles of',\n",
       "  'might read that “so me chest pain is not heart -related” and mistakenly take it as their  \\nchest pain is nothing, ignoring the “don’t wait to get checked” messaging. Ensuring \\ncomprehension is hard – ideally, interactive quizzes or teach -back methods are used \\n(in person, doctors often ask patients to repeat back the plan to ensure \\nunderstanding). Guides can’t do that. This is a reason many materials recommend \\n“talk this over with your doctor.” Another human factor: denial or fear. A person',\n",
       "  'disease, congenital heart defects, and others 1. Many cardiovascular diseases are \\npreventable through healthy lifestyle choices and early detection. This guide provides an \\noverview of cardiovascular problems, common symptoms to recognize, types of medical \\nexams and how to interpret them, lifestyle modi fications for heart health, the roles of \\nvarious heart specialists, when to seek medical attention, reliable sources of information,']}"
      ]
     },
     "execution_count": 4,
     "metadata": {},
     "output_type": "execute_result"
    }
   ],
   "source": [
    "run_rag_pipeline(None, \"help me understanding the menaing of my heart problem?\", \"answer.json\")\n"
   ]
  }
 ],
 "metadata": {
  "kernelspec": {
   "display_name": "venv",
   "language": "python",
   "name": "python3"
  },
  "language_info": {
   "codemirror_mode": {
    "name": "ipython",
    "version": 3
   },
   "file_extension": ".py",
   "mimetype": "text/x-python",
   "name": "python",
   "nbconvert_exporter": "python",
   "pygments_lexer": "ipython3",
   "version": "3.13.5"
  }
 },
 "nbformat": 4,
 "nbformat_minor": 5
}
